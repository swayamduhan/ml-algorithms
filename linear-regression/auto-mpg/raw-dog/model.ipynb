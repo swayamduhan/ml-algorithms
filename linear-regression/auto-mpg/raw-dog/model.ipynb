{
 "cells": [
  {
   "cell_type": "code",
   "execution_count": 1623,
   "metadata": {},
   "outputs": [],
   "source": [
    "import pandas as pd\n",
    "import numpy as np\n",
    "import matplotlib.pyplot as plt"
   ]
  },
  {
   "cell_type": "code",
   "execution_count": 1624,
   "metadata": {},
   "outputs": [
    {
     "data": {
      "text/html": [
       "<div>\n",
       "<style scoped>\n",
       "    .dataframe tbody tr th:only-of-type {\n",
       "        vertical-align: middle;\n",
       "    }\n",
       "\n",
       "    .dataframe tbody tr th {\n",
       "        vertical-align: top;\n",
       "    }\n",
       "\n",
       "    .dataframe thead th {\n",
       "        text-align: right;\n",
       "    }\n",
       "</style>\n",
       "<table border=\"1\" class=\"dataframe\">\n",
       "  <thead>\n",
       "    <tr style=\"text-align: right;\">\n",
       "      <th></th>\n",
       "      <th>MPG</th>\n",
       "      <th>Cylinders</th>\n",
       "      <th>Displacement</th>\n",
       "      <th>Horsepower</th>\n",
       "      <th>Weight</th>\n",
       "      <th>Acceleration</th>\n",
       "      <th>Model Year</th>\n",
       "    </tr>\n",
       "  </thead>\n",
       "  <tbody>\n",
       "    <tr>\n",
       "      <th>0</th>\n",
       "      <td>18.0</td>\n",
       "      <td>8.0</td>\n",
       "      <td>307.0</td>\n",
       "      <td>130.0</td>\n",
       "      <td>3504.0</td>\n",
       "      <td>12.0</td>\n",
       "      <td>70.0</td>\n",
       "    </tr>\n",
       "    <tr>\n",
       "      <th>1</th>\n",
       "      <td>15.0</td>\n",
       "      <td>8.0</td>\n",
       "      <td>350.0</td>\n",
       "      <td>165.0</td>\n",
       "      <td>3693.0</td>\n",
       "      <td>11.5</td>\n",
       "      <td>70.0</td>\n",
       "    </tr>\n",
       "    <tr>\n",
       "      <th>2</th>\n",
       "      <td>18.0</td>\n",
       "      <td>8.0</td>\n",
       "      <td>318.0</td>\n",
       "      <td>150.0</td>\n",
       "      <td>3436.0</td>\n",
       "      <td>11.0</td>\n",
       "      <td>70.0</td>\n",
       "    </tr>\n",
       "    <tr>\n",
       "      <th>3</th>\n",
       "      <td>16.0</td>\n",
       "      <td>8.0</td>\n",
       "      <td>304.0</td>\n",
       "      <td>150.0</td>\n",
       "      <td>3433.0</td>\n",
       "      <td>12.0</td>\n",
       "      <td>70.0</td>\n",
       "    </tr>\n",
       "    <tr>\n",
       "      <th>4</th>\n",
       "      <td>17.0</td>\n",
       "      <td>8.0</td>\n",
       "      <td>302.0</td>\n",
       "      <td>140.0</td>\n",
       "      <td>3449.0</td>\n",
       "      <td>10.5</td>\n",
       "      <td>70.0</td>\n",
       "    </tr>\n",
       "    <tr>\n",
       "      <th>...</th>\n",
       "      <td>...</td>\n",
       "      <td>...</td>\n",
       "      <td>...</td>\n",
       "      <td>...</td>\n",
       "      <td>...</td>\n",
       "      <td>...</td>\n",
       "      <td>...</td>\n",
       "    </tr>\n",
       "    <tr>\n",
       "      <th>387</th>\n",
       "      <td>27.0</td>\n",
       "      <td>4.0</td>\n",
       "      <td>140.0</td>\n",
       "      <td>86.0</td>\n",
       "      <td>2790.0</td>\n",
       "      <td>15.6</td>\n",
       "      <td>82.0</td>\n",
       "    </tr>\n",
       "    <tr>\n",
       "      <th>388</th>\n",
       "      <td>44.0</td>\n",
       "      <td>4.0</td>\n",
       "      <td>97.0</td>\n",
       "      <td>52.0</td>\n",
       "      <td>2130.0</td>\n",
       "      <td>24.6</td>\n",
       "      <td>82.0</td>\n",
       "    </tr>\n",
       "    <tr>\n",
       "      <th>389</th>\n",
       "      <td>32.0</td>\n",
       "      <td>4.0</td>\n",
       "      <td>135.0</td>\n",
       "      <td>84.0</td>\n",
       "      <td>2295.0</td>\n",
       "      <td>11.6</td>\n",
       "      <td>82.0</td>\n",
       "    </tr>\n",
       "    <tr>\n",
       "      <th>390</th>\n",
       "      <td>28.0</td>\n",
       "      <td>4.0</td>\n",
       "      <td>120.0</td>\n",
       "      <td>79.0</td>\n",
       "      <td>2625.0</td>\n",
       "      <td>18.6</td>\n",
       "      <td>82.0</td>\n",
       "    </tr>\n",
       "    <tr>\n",
       "      <th>391</th>\n",
       "      <td>31.0</td>\n",
       "      <td>4.0</td>\n",
       "      <td>119.0</td>\n",
       "      <td>82.0</td>\n",
       "      <td>2720.0</td>\n",
       "      <td>19.4</td>\n",
       "      <td>82.0</td>\n",
       "    </tr>\n",
       "  </tbody>\n",
       "</table>\n",
       "<p>392 rows × 7 columns</p>\n",
       "</div>"
      ],
      "text/plain": [
       "      MPG  Cylinders  Displacement  Horsepower  Weight  Acceleration  \\\n",
       "0    18.0        8.0         307.0       130.0  3504.0          12.0   \n",
       "1    15.0        8.0         350.0       165.0  3693.0          11.5   \n",
       "2    18.0        8.0         318.0       150.0  3436.0          11.0   \n",
       "3    16.0        8.0         304.0       150.0  3433.0          12.0   \n",
       "4    17.0        8.0         302.0       140.0  3449.0          10.5   \n",
       "..    ...        ...           ...         ...     ...           ...   \n",
       "387  27.0        4.0         140.0        86.0  2790.0          15.6   \n",
       "388  44.0        4.0          97.0        52.0  2130.0          24.6   \n",
       "389  32.0        4.0         135.0        84.0  2295.0          11.6   \n",
       "390  28.0        4.0         120.0        79.0  2625.0          18.6   \n",
       "391  31.0        4.0         119.0        82.0  2720.0          19.4   \n",
       "\n",
       "     Model Year  \n",
       "0          70.0  \n",
       "1          70.0  \n",
       "2          70.0  \n",
       "3          70.0  \n",
       "4          70.0  \n",
       "..          ...  \n",
       "387        82.0  \n",
       "388        82.0  \n",
       "389        82.0  \n",
       "390        82.0  \n",
       "391        82.0  \n",
       "\n",
       "[392 rows x 7 columns]"
      ]
     },
     "execution_count": 1624,
     "metadata": {},
     "output_type": "execute_result"
    }
   ],
   "source": [
    "df = pd.read_csv(\"../clean_dataset/cleaned_dataset.csv\", sep=\",\")\n",
    "df"
   ]
  },
  {
   "cell_type": "code",
   "execution_count": 1625,
   "metadata": {},
   "outputs": [],
   "source": [
    "X = df.drop(columns=\"MPG\").values\n",
    "y = df[\"MPG\"].values.reshape(-1, 1)"
   ]
  },
  {
   "cell_type": "code",
   "execution_count": 1626,
   "metadata": {},
   "outputs": [],
   "source": [
    "# performing data normalization for gradient descent\n",
    "X = ( X - np.mean(X, axis=0)) / np.std(X, axis=0)"
   ]
  },
  {
   "cell_type": "code",
   "execution_count": 1627,
   "metadata": {},
   "outputs": [
    {
     "data": {
      "text/plain": [
       "array([[ 1.        ,  1.48394702,  1.07728956, ...,  0.62054034,\n",
       "        -1.285258  , -1.62531533],\n",
       "       [ 1.        ,  1.48394702,  1.48873169, ...,  0.84333403,\n",
       "        -1.46672362, -1.62531533],\n",
       "       [ 1.        ,  1.48394702,  1.1825422 , ...,  0.54038176,\n",
       "        -1.64818924, -1.62531533],\n",
       "       ...,\n",
       "       [ 1.        , -0.86401356, -0.56847897, ..., -0.80463202,\n",
       "        -1.4304305 ,  1.63640964],\n",
       "       [ 1.        , -0.86401356, -0.7120053 , ..., -0.41562716,\n",
       "         1.11008813,  1.63640964],\n",
       "       [ 1.        , -0.86401356, -0.72157372, ..., -0.30364091,\n",
       "         1.40043312,  1.63640964]], shape=(392, 7))"
      ]
     },
     "execution_count": 1627,
     "metadata": {},
     "output_type": "execute_result"
    }
   ],
   "source": [
    "# adding X0 term\n",
    "ones_col = np.ones((X.shape[0], 1))\n",
    "X = np.c_[ones_col, X]\n",
    "X"
   ]
  },
  {
   "cell_type": "code",
   "execution_count": 1628,
   "metadata": {},
   "outputs": [],
   "source": [
    "# intialising variables\n",
    "theta = np.zeros((X.shape[1], 1))\n",
    "alpha = 0.01\n",
    "iterations = 2001"
   ]
  },
  {
   "cell_type": "code",
   "execution_count": 1629,
   "metadata": {},
   "outputs": [],
   "source": [
    "# splitting train and test data\n",
    "test_ratio = 0.2\n",
    "m = X.shape[0]\n",
    "index = np.random.permutation(m)\n",
    "\n",
    "test_size = int(m * test_ratio)\n",
    "train_indices = index[test_size:]\n",
    "test_indices = index[:test_size]\n",
    "\n",
    "X_train, X_test = X[train_indices], X[test_indices]\n",
    "y_train, y_test = y[train_indices], y[test_indices]\n"
   ]
  },
  {
   "cell_type": "code",
   "execution_count": 1630,
   "metadata": {},
   "outputs": [
    {
     "name": "stdout",
     "output_type": "stream",
     "text": [
      "Iteration 2000 : Theta = [ 2.34326507e+01 -4.61736445e-01 -4.61430732e-01 -4.06089918e-01\n",
      " -4.40614535e+00 -1.71097294e-02  2.52655589e+00]\n"
     ]
    }
   ],
   "source": [
    "from IPython.display import clear_output\n",
    "import time\n",
    "# training\n",
    "m = len(y_train)\n",
    "\n",
    "for i in range(iterations):\n",
    "    y_pred = np.dot(X_train, theta)\n",
    "    error = y_pred - y_train\n",
    "    gradient = (1 / m) * np.dot(X_train.T, error)\n",
    "    theta -= alpha * gradient\n",
    "    \n",
    "    # for j in range(len(theta)):\n",
    "    #     grad = np.sum(error * X_train[:, j]) / m\n",
    "    #     theta[j] -= alpha * grad\n",
    "\n",
    "    if i % 100 == 0:\n",
    "        clear_output()\n",
    "        time.sleep(0.01)\n",
    "        print(f\"Iteration {i} : Theta = {theta.flatten()}\")"
   ]
  },
  {
   "cell_type": "code",
   "execution_count": 1631,
   "metadata": {},
   "outputs": [
    {
     "data": {
      "text/plain": [
       "(np.float64(9.645226630650793), np.float64(12.335271520332753))"
      ]
     },
     "execution_count": 1631,
     "metadata": {},
     "output_type": "execute_result"
    }
   ],
   "source": [
    "# testing\n",
    "y_test_pred = np.dot(X_test, theta)\n",
    "test_error = y_test_pred - y_test\n",
    "test_mse = np.mean(test_error ** 2)\n",
    "y_train_pred = np.dot(X_train, theta)\n",
    "train_error = y_train_pred - y_train\n",
    "train_mse = np.mean(train_error ** 2)\n",
    "test_mse, train_mse"
   ]
  }
 ],
 "metadata": {
  "kernelspec": {
   "display_name": "Python 3",
   "language": "python",
   "name": "python3"
  },
  "language_info": {
   "codemirror_mode": {
    "name": "ipython",
    "version": 3
   },
   "file_extension": ".py",
   "mimetype": "text/x-python",
   "name": "python",
   "nbconvert_exporter": "python",
   "pygments_lexer": "ipython3",
   "version": "3.13.2"
  }
 },
 "nbformat": 4,
 "nbformat_minor": 2
}
